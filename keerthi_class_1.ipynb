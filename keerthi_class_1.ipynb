{
  "nbformat": 4,
  "nbformat_minor": 0,
  "metadata": {
    "colab": {
      "provenance": []
    },
    "kernelspec": {
      "name": "python3",
      "display_name": "Python 3"
    },
    "language_info": {
      "name": "python"
    }
  },
  "cells": [
    {
      "cell_type": "code",
      "execution_count": 48,
      "metadata": {
        "colab": {
          "base_uri": "https://localhost:8080/",
          "height": 0
        },
        "id": "uMr07ljHO712",
        "outputId": "469edbda-2916-461d-e0a5-d0f916defbfe"
      },
      "outputs": [
        {
          "output_type": "stream",
          "name": "stdout",
          "text": [
            "ragneg\n",
            "sarap\n",
            "nadnarg\n",
            "rudnamrahc\n",
            "_eltiruqs\n",
            "oocooc\n",
            "ruasablub\n"
          ]
        }
      ],
      "source": [
        "l=[\"bulbasaur_21\",\"coocoo_56\",\"squritle_142\",\"charmandur_09\",\"grandan_08\",\"paras_02\",\"gengar_69\"]\n",
        "for x in l[::-1]:\n",
        " print(x[-4::-1])\n"
      ]
    },
    {
      "cell_type": "code",
      "source": [],
      "metadata": {
        "id": "9UR9ZJ4JYJEG"
      },
      "execution_count": null,
      "outputs": []
    },
    {
      "cell_type": "code",
      "execution_count": 55,
      "metadata": {
        "colab": {
          "base_uri": "https://localhost:8080/"
        },
        "outputId": "bf8af597-eff7-4d75-bde4-5906193e7924",
        "id": "RUQkmhNnYrge"
      },
      "outputs": [
        {
          "output_type": "stream",
          "name": "stdout",
          "text": [
            "bulbasaur\n",
            "coocoo\n",
            "squritle\n",
            "charmandur\n",
            "grandan\n",
            "paras\n",
            "gengar\n"
          ]
        }
      ],
      "source": [
        "l=[\"bulbasaur_21\",\"coocoo_56\",\"squritle_142\",\"charmandur_09\",\"grandan_08\",\"paras_02\",\"gengar_69\"]\n",
        "for x in l:\n",
        " k=x.find('_')\n",
        " print(x[:k])\n"
      ]
    },
    {
      "cell_type": "code",
      "source": [],
      "metadata": {
        "id": "d9hdGYzSY3uO"
      },
      "execution_count": null,
      "outputs": []
    },
    {
      "cell_type": "code",
      "execution_count": 64,
      "metadata": {
        "colab": {
          "base_uri": "https://localhost:8080/"
        },
        "outputId": "d9281a1a-7e4d-452b-b125-425a97eb1ba3",
        "id": "SKeKLc4-Zf3Z"
      },
      "outputs": [
        {
          "output_type": "stream",
          "name": "stdout",
          "text": [
            "gengar\n",
            "grandan\n",
            "squritle_\n",
            "bulbasaur\n"
          ]
        }
      ],
      "source": [
        "l=[\"bulbasaur_21\",\"coocoo_56\",\"squritle_142\",\"charmandur_09\",\"grandan_08\",\"paras_02\",\"gengar_69\"]\n",
        "for x in l[::-2]:\n",
        "  print(x[:-3])\n"
      ]
    },
    {
      "cell_type": "code",
      "source": [],
      "metadata": {
        "id": "AczeK7d3aa7d"
      },
      "execution_count": null,
      "outputs": []
    },
    {
      "cell_type": "code",
      "execution_count": 105,
      "metadata": {
        "colab": {
          "base_uri": "https://localhost:8080/"
        },
        "outputId": "6ee7b499-b6ee-4ded-f037-61feb2625635",
        "id": "r-WVUpc1a6jA"
      },
      "outputs": [
        {
          "output_type": "stream",
          "name": "stdout",
          "text": [
            "coocoo\n",
            "charmandur\n"
          ]
        }
      ],
      "source": [
        "l=[\"bulbasaur_21\",\"coocoo_56\",\"squritle_142\",\"charmandur_09\",\"grandan_08\",\"paras_02\",\"gengar_69\"]\n",
        "for x in l:\n",
        " k=x.startswith('c')\n",
        " if k==True:\n",
        "  l1=x.find('_')\n",
        "  print(x[:l1])\n",
        "\n",
        "\n",
        "\n",
        "  \n"
      ]
    },
    {
      "cell_type": "code",
      "source": [],
      "metadata": {
        "id": "2flDq7cQbENM"
      },
      "execution_count": null,
      "outputs": []
    },
    {
      "cell_type": "code",
      "execution_count": 111,
      "metadata": {
        "colab": {
          "base_uri": "https://localhost:8080/"
        },
        "outputId": "18f8c747-d383-4f09-97e6-96c15fa22283",
        "id": "fimIZfiPh5Fh"
      },
      "outputs": [
        {
          "output_type": "stream",
          "name": "stdout",
          "text": [
            "['b', 'u', 'l', 'b', 'a', 's', 'a', 'u', 'r', '_', '2', '1']\n",
            "['s', 'q', 'u', 'r', 'i', 't', 'l', 'e', '_', '1', '4', '2']\n",
            "['g', 'r', 'a', 'n', 'd', 'a', 'n', '_', '0', '8']\n",
            "['g', 'e', 'n', 'g', 'a', 'r', '_', '6', '9']\n"
          ]
        }
      ],
      "source": [
        "l=[\"bulbasaur_21\",\"coocoo_56\",\"squritle_142\",\"charmandur_09\",\"grandan_08\",\"paras_02\",\"gengar_69\"]\n",
        "for x in l[::2]:\n",
        "  print(list(x))\n",
        "\n",
        "  \n"
      ]
    },
    {
      "cell_type": "code",
      "source": [],
      "metadata": {
        "id": "tNcs1OpXiMHF"
      },
      "execution_count": null,
      "outputs": []
    },
    {
      "cell_type": "code",
      "execution_count": 118,
      "metadata": {
        "colab": {
          "base_uri": "https://localhost:8080/"
        },
        "outputId": "cfceeb36-6610-4685-bcb6-89071447900d",
        "id": "TQ1G76Wii0ve"
      },
      "outputs": [
        {
          "output_type": "stream",
          "name": "stdout",
          "text": [
            "['bulbasaur_21']\n",
            "['bulbasaur_21', 'squritle_142']\n",
            "['bulbasaur_21', 'squritle_142', 'grandan_08']\n",
            "['bulbasaur_21', 'squritle_142', 'grandan_08', 'gengar_69']\n"
          ]
        }
      ],
      "source": [
        "l=[\"bulbasaur_21\",\"coocoo_56\",\"squritle_142\",\"charmandur_09\",\"grandan_08\",\"paras_02\",\"gengar_69\"]\n",
        "l2=[]\n",
        "for x in l[::2]:\n",
        "  l2.append(x)\n",
        "  print(l2)\n",
        "  \n",
        "\n",
        "  \n"
      ]
    },
    {
      "cell_type": "code",
      "source": [],
      "metadata": {
        "id": "5wEIrjuQi6DP"
      },
      "execution_count": null,
      "outputs": []
    }
  ]
}